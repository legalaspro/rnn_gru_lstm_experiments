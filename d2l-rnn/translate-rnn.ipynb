{
 "cells": [],
 "metadata": {
  "kernelspec": {
   "display_name": "d2l-torch",
   "language": "python",
   "name": "python3"
  },
  "language_info": {
   "name": "python",
   "version": "3.9.21"
  }
 },
 "nbformat": 4,
 "nbformat_minor": 2
}
